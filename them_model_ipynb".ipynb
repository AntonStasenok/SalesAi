{
  "nbformat": 4,
  "nbformat_minor": 0,
  "metadata": {
    "colab": {
      "provenance": [],
      "collapsed_sections": [],
      "mount_file_id": "12xxwKEh3PSrtiVu33WujiEG2TPGGHhRm",
      "authorship_tag": "ABX9TyNNxt+RINNjKotnJP0YUZaf",
      "include_colab_link": true
    },
    "kernelspec": {
      "name": "python3",
      "display_name": "Python 3"
    },
    "language_info": {
      "name": "python"
    }
  },
  "cells": [
    {
      "cell_type": "markdown",
      "metadata": {
        "id": "view-in-github",
        "colab_type": "text"
      },
      "source": [
        "<a href=\"https://colab.research.google.com/github/AntonStasenok/SalesAi/blob/main/them_model_ipynb%22.ipynb\" target=\"_parent\"><img src=\"https://colab.research.google.com/assets/colab-badge.svg\" alt=\"Open In Colab\"/></a>"
      ]
    },
    {
      "cell_type": "code",
      "execution_count": null,
      "metadata": {
        "id": "eTmxl4RnKmy1"
      },
      "outputs": [],
      "source": [
        "!apt-get install rar"
      ]
    },
    {
      "cell_type": "code",
      "source": [
        "!rar x \"/content/drive/MyDrive/theme_model/text.rar\" \"/content/drive/MyDrive/theme_model\" "
      ],
      "metadata": {
        "id": "1lheKytgP08G"
      },
      "execution_count": null,
      "outputs": []
    },
    {
      "cell_type": "code",
      "source": [
        "file = '/content/drive/MyDrive/theme_model/text/1627299662.168874..txt'\n",
        "\n",
        "#file = '/content/text/text/1619418106.276194..txt'"
      ],
      "metadata": {
        "id": "au-4HC9MjJ3Q"
      },
      "execution_count": null,
      "outputs": []
    },
    {
      "cell_type": "code",
      "source": [
        "import chardet\n",
        "with open(file, 'rb') as rawdata:\n",
        "    result = chardet.detect(rawdata.read(100000))\n",
        "result"
      ],
      "metadata": {
        "colab": {
          "base_uri": "https://localhost:8080/"
        },
        "id": "V4f3T5DmjIyJ",
        "outputId": "c8079833-75ed-482e-f968-085980446b8e"
      },
      "execution_count": null,
      "outputs": [
        {
          "output_type": "execute_result",
          "data": {
            "text/plain": [
              "{'encoding': 'windows-1251',\n",
              " 'confidence': 0.9727833705525966,\n",
              " 'language': 'Russian'}"
            ]
          },
          "metadata": {},
          "execution_count": 2
        }
      ]
    },
    {
      "cell_type": "code",
      "source": [
        "with open(file, encoding = 'windows-1251') as f:\n",
        "     lines = f.readlines()\n",
        "lines"
      ],
      "metadata": {
        "id": "Y3W3rzGSRDhh"
      },
      "execution_count": null,
      "outputs": []
    },
    {
      "cell_type": "code",
      "source": [
        "with open('/content/sample_data/1.txt', 'w', encoding = 'utf-8') as fp:\n",
        "    fp.write(' '.join(lines))"
      ],
      "metadata": {
        "id": "yAAa2L5MgoCO"
      },
      "execution_count": null,
      "outputs": []
    },
    {
      "cell_type": "code",
      "source": [
        "!pip install pymorphy2"
      ],
      "metadata": {
        "id": "zLg05uzXL72a"
      },
      "execution_count": null,
      "outputs": []
    },
    {
      "cell_type": "code",
      "source": [
        "import nltk\n",
        "import string\n",
        "from tqdm import tqdm\n",
        "import pymorphy2\n",
        "import pymystem3"
      ],
      "metadata": {
        "id": "O9EstuTLi_M_"
      },
      "execution_count": null,
      "outputs": []
    },
    {
      "cell_type": "code",
      "source": [
        "nltk.download('punkt')\n",
        "nltk.download('stopwords')\n",
        "\n",
        "#mystem = pymystem3.Mystem()\n",
        "morph = pymorphy2.MorphAnalyzer()\n",
        "stop_words = nltk.corpus.stopwords.words('russian')"
      ],
      "metadata": {
        "id": "O3lAFmvYjBj0"
      },
      "execution_count": null,
      "outputs": []
    },
    {
      "cell_type": "code",
      "source": [
        "\n",
        "def text_lemma(text, lemmatizer, stop_words = None, punctuation = True):\n",
        "  result = list()\n",
        "  \n",
        "  if punctuation:\n",
        "    new_text = nltk.word_tokenize(text.translate(str.maketrans('', '', string.punctuation)))\n",
        "  else:\n",
        "    new_text = nltk.word_tokenize(text)\n",
        "      \n",
        "  if isinstance(lemmatizer, pymorphy2.analyzer.MorphAnalyzer):\n",
        "    for word in new_text:\n",
        "      p = lemmatizer.parse(word)[0]\n",
        "      result.append(p.normal_form)\n",
        "  elif isinstance(lemmatizer, pymystem3.mystem.Mystem):\n",
        "    for word in new_text:\n",
        "      p = lemmatizer.lemmatize(word)[0]\n",
        "      result.append(p.normal_form)\n",
        "\n",
        "  if stop_words:\n",
        "    new_text_w = [w for w in result if w not in stop_words]\n",
        "  else:\n",
        "    new_text_w = result.copy()\n",
        "\n",
        "  return new_text_w\n",
        "\n",
        "\n",
        "def dialog_transform(dialogue, lemmatizer, stop_words = None, punctuation = True, to_string = False):\n",
        "  result = list()\n",
        "  for sentence in dialogue:\n",
        "    res = text_lemma(sentence, morph, stop_words)\n",
        "    if to_string:\n",
        "      result.append(' '.join(res))\n",
        "    else:\n",
        "      result.append(res)\n",
        "  \n",
        "  return result"
      ],
      "metadata": {
        "id": "FqN20fm3ZG-_"
      },
      "execution_count": null,
      "outputs": []
    },
    {
      "cell_type": "code",
      "source": [
        "from os import walk\n",
        "\n",
        "filenames = next(walk('/content/drive/MyDrive/theme_model/text'), (None, None, []))[2] \n",
        "path = '/content/drive/MyDrive/theme_model/text/'"
      ],
      "metadata": {
        "id": "U1u3sZigdKNC"
      },
      "execution_count": null,
      "outputs": []
    },
    {
      "cell_type": "code",
      "source": [
        "len(filenames)"
      ],
      "metadata": {
        "colab": {
          "base_uri": "https://localhost:8080/"
        },
        "id": "8mQ0YYIU7hs9",
        "outputId": "8c74d159-9e6e-4a74-872a-7de1716b3126"
      },
      "execution_count": null,
      "outputs": [
        {
          "output_type": "execute_result",
          "data": {
            "text/plain": [
              "1926"
            ]
          },
          "metadata": {},
          "execution_count": 122
        }
      ]
    },
    {
      "cell_type": "code",
      "source": [
        "with_stop = list()\n",
        "dic = list()\n",
        "\n",
        "\n",
        "for name in tqdm(filenames):\n",
        "  filename = path + name\n",
        "  with open(filename, encoding = 'windows-1251') as f:\n",
        "     lines = f.readlines()\n",
        "\n",
        "  text = dialog_transform(lines, morph, stop_words)\n",
        "\n",
        "  tokens = []\n",
        "  for sent in text:\n",
        "    if not sent:\n",
        "      continue\n",
        "    else:\n",
        "      tokens += sent\n",
        "      \n",
        "  dic.extend(tokens)\n",
        "  with_stop.append(len(tokens))"
      ],
      "metadata": {
        "colab": {
          "base_uri": "https://localhost:8080/"
        },
        "id": "sVnOas88hqWz",
        "outputId": "815f88cd-86d9-4344-d316-b3477903cc54"
      },
      "execution_count": null,
      "outputs": [
        {
          "output_type": "stream",
          "name": "stderr",
          "text": [
            "100%|██████████| 1926/1926 [07:21<00:00,  4.36it/s]\n"
          ]
        }
      ]
    },
    {
      "cell_type": "code",
      "source": [
        "import matplotlib.pyplot as plt\n",
        "import numpy as np\n",
        "\n",
        "mean = int(np.mean(with_stop))\n",
        "std = int(np.std(with_stop))\n",
        "\n",
        "# An \"interface\" to matplotlib.axes.Axes.hist() method\n",
        "n, bins, patches = plt.hist(x=with_stop, bins='auto', color='#0504aa',\n",
        "                            alpha=0.7, rwidth=0.85)\n",
        "plt.grid(axis='y', alpha=0.75)\n",
        "plt.xlabel('Количество токенов')\n",
        "plt.ylabel('Частота')\n",
        "plt.title('Количество токенов в диалогах без стоп-слов')\n",
        "plt.text(850, 125, f'$\\mu={mean}, \\sigma={std}$')\n",
        "maxfreq = n.max()\n",
        "# Set a clean upper y-axis limit.\n",
        "plt.ylim(ymax=np.ceil(maxfreq / 10) * 10 if maxfreq % 10 else maxfreq + 10)"
      ],
      "metadata": {
        "colab": {
          "base_uri": "https://localhost:8080/",
          "height": 312
        },
        "id": "fJ1_bC0atbIF",
        "outputId": "c9366c97-5a61-4305-91a3-9194d2b61cbc"
      },
      "execution_count": null,
      "outputs": [
        {
          "output_type": "execute_result",
          "data": {
            "text/plain": [
              "(0.0, 190.0)"
            ]
          },
          "metadata": {},
          "execution_count": 116
        },
        {
          "output_type": "display_data",
          "data": {
            "text/plain": [
              "<Figure size 432x288 with 1 Axes>"
            ],
            "image/png": "[encoded data removed]"
          },
          "metadata": {
            "needs_background": "light"
          }
        }
      ]
    },
    {
      "cell_type": "code",
      "source": [
        "mean = int(np.mean(without_stop))\n",
        "std = int(np.std(without_stop))\n",
        "\n",
        "# An \"interface\" to matplotlib.axes.Axes.hist() method\n",
        "n, bins, patches = plt.hist(x=without_stop, bins='auto', color='#0504aa',\n",
        "                            alpha=0.7, rwidth=0.85)\n",
        "plt.grid(axis='y', alpha=0.75)\n",
        "plt.xlabel('Количество токенов')\n",
        "plt.ylabel('Частота')\n",
        "plt.title('Количество токенов в диалогах со стоп-словами')\n",
        "plt.text(1500, 125, f'$\\mu={mean}, \\sigma={std}$')\n",
        "maxfreq = n.max()\n",
        "# Set a clean upper y-axis limit.\n",
        "plt.ylim(ymax=np.ceil(maxfreq / 10) * 10 if maxfreq % 10 else maxfreq + 10)"
      ],
      "metadata": {
        "colab": {
          "base_uri": "https://localhost:8080/",
          "height": 312
        },
        "id": "8AdeVyemvoge",
        "outputId": "3191c090-5a6d-4161-f7c7-db1ddcef3f1d"
      },
      "execution_count": null,
      "outputs": [
        {
          "output_type": "execute_result",
          "data": {
            "text/plain": [
              "(0.0, 190.0)"
            ]
          },
          "metadata": {},
          "execution_count": 113
        },
        {
          "output_type": "display_data",
          "data": {
            "text/plain": [
              "<Figure size 432x288 with 1 Axes>"
            ],
            "image/png": "[encoded data removed]"
          },
          "metadata": {
            "needs_background": "light"
          }
        }
      ]
    },
    {
      "cell_type": "code",
      "source": [
        "len(set(dic))"
      ],
      "metadata": {
        "colab": {
          "base_uri": "https://localhost:8080/"
        },
        "id": "LekUiBff0jVK",
        "outputId": "ebff5d3d-0bb6-4134-faae-b181d8648c99"
      },
      "execution_count": null,
      "outputs": [
        {
          "output_type": "execute_result",
          "data": {
            "text/plain": [
              "21067"
            ]
          },
          "metadata": {},
          "execution_count": 121
        }
      ]
    },
    {
      "cell_type": "code",
      "source": [],
      "metadata": {
        "id": "xosMz5yc-hVT"
      },
      "execution_count": null,
      "outputs": []
    }
  ]
}